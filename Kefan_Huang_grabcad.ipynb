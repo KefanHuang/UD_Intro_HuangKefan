{
 "cells": [
  {
   "cell_type": "code",
   "execution_count": 16,
   "id": "958ba608",
   "metadata": {},
   "outputs": [],
   "source": [
    "# Import Selenium and its sub libraries\n",
    "import selenium \n",
    "from selenium import webdriver\n",
    "from selenium.webdriver.common.by import By\n",
    "from selenium.webdriver.common.keys import Keys\n",
    "from selenium.webdriver.support.ui import Select\n",
    "from selenium.webdriver.support.ui import WebDriverWait\n",
    "from selenium.webdriver.support import expected_conditions as EC\n",
    "import time\n",
    "from time import sleep"
   ]
  },
  {
   "cell_type": "code",
   "execution_count": 17,
   "id": "8369339c",
   "metadata": {},
   "outputs": [],
   "source": [
    "url=\"https://freecadfloorplans.com/club-members/\""
   ]
  },
  {
   "cell_type": "code",
   "execution_count": null,
   "id": "729ece83",
   "metadata": {},
   "outputs": [],
   "source": [
    "driver = webdriver.Chrome()\n",
    "driver.get(url)\n",
    "\n",
    "#identify search box\n",
    "search_query = driver.find_element(\"name\",\"s\")\n",
    "\n",
    "#enter search text\n",
    "search_query.send_keys(\"apartments\")\n",
    "search_query.send_keys(Keys.RETURN)\n",
    "sleep(2) \n",
    "\n",
    "#identify buttom\n",
    "continue_buttom = driver.find_element(\"id\",\"ez-accept-all\")\n",
    "\n",
    "#continue with recommended cookies\n",
    "continue_buttom.click()\n",
    "sleep(2)\n",
    "\n",
    "#Create lists\n",
    "title_list = []\n",
    "link_list=[]\n",
    "plans_detail_list=[]\n",
    "\n",
    "apartments = driver.find_elements(\"class name\", \"entry-content-wrap\")\n",
    "\n",
    "for i in range(len(apartments)):\n",
    "    try:\n",
    "        #Find title per apartments\n",
    "        title = apartments[i].find_element(\"class name\",\"entry-title\").text\n",
    "        print(title)\n",
    "        \n",
    "        #Find title per apartments\n",
    "        plans_details = apartments[i].find_element(\"tag name\", \"span\").text\n",
    "        print(plans_details)\n",
    "        \n",
    "        #Extracting link\n",
    "        link = apartments[i].find_element(\"link text\",title).get_attribute('href')\n",
    "        print(link)\n",
    "        \n",
    "        #Add item to the respective lists\n",
    "        title_list.append(title)\n",
    "        plans_detail_list.append(plans_details)\n",
    "        link_list.append(link)\n",
    "        \n",
    "        sleep(2)\n",
    "    except:\n",
    "        pass\n",
    "    "
   ]
  },
  {
   "cell_type": "code",
   "execution_count": null,
   "id": "bc2fb138",
   "metadata": {},
   "outputs": [],
   "source": [
    "def extract_apartments_plan(driver):\n",
    "    apartments = driver.find_elements(\"class name\", \"entry-content-wrap\")\n",
    "    \n",
    "    for i in range(len(apartments)):\n",
    "        try:\n",
    "            #Find title per apartments)\n",
    "            title = apartments[i].find_element(\"class name\",\"entry-title\").text\n",
    "            print(title)\n",
    "            \n",
    "            #Find title per apartments\n",
    "            plans_details = apartments[i].find_element(\"tag name\", \"span\").text\n",
    "            print(plans_details)\n",
    "            \n",
    "            #Extracting link\n",
    "            link = apartments[i].find_element(\"link text\",title).get_attribute('href')\n",
    "            print(link)\n",
    "            \n",
    "            #Add item to the respective lists\n",
    "            title_list.append(title)\n",
    "            plans_detail_list.append(plans_details)\n",
    "            link_list.append(link)\n",
    "            sleep(2)\n",
    "            \n",
    "        except:\n",
    "            pass\n"
   ]
  },
  {
   "cell_type": "code",
   "execution_count": null,
   "id": "2a44be0b",
   "metadata": {},
   "outputs": [],
   "source": [
    "driver = webdriver.Chrome()\n",
    "driver.get(url)\n",
    "\n",
    "#Create lists to store the data\n",
    "title_list = []\n",
    "link_list=[]\n",
    "plans_detail_list=[]\n",
    "\n",
    "#Step 1: identify search box\n",
    "search_query = driver.find_element(\"name\",\"s\")\n",
    "\n",
    "#Step 2: search a topic\n",
    "search_query.send_keys(\"apartments\")\n",
    "search_query.send_keys(Keys.RETURN)\n",
    "#Delay\n",
    "sleep(1)\n",
    "\n",
    "#continue with recommended cookies\n",
    "continue_buttom = driver.find_element(\"id\",\"ez-accept-all\")\n",
    "continue_buttom.click()\n",
    "sleep(2)\n",
    "\n",
    "#Step 3: Execute the function for each page\n",
    "for page_num in range(0,2):\n",
    "    try:\n",
    "        #Execute the function \n",
    "        extract_apartments_plan(driver)\n",
    "        \n",
    "        #Locate the \"Next\" button on the webpage and click it to navigate to the next page\n",
    "        next_page = driver.find_element(\"class name\", \"next\")\n",
    "        next_page.click()\n",
    "        sleep(2)\n",
    "        \n",
    "    except:\n",
    "        pass\n",
    "    \n",
    "driver.quit()"
   ]
  },
  {
   "cell_type": "code",
   "execution_count": 18,
   "id": "93223046",
   "metadata": {},
   "outputs": [
    {
     "name": "stdout",
     "output_type": "stream",
     "text": [
      "['Apartments, 1405202', 'Small Apartments 1404203', 'Apartments 1404202', 'Apartments 413201', 'Apartments 411203', 'Barn Door Hardware', 'Breaker Box', 'Complete Housing Project', 'Residential Building, 2407202', 'Residential Building, 2007202', 'Residential Building, 2307202', 'Residential Building, 2307201', 'Residential Building, 2007202', 'Residential Building, 2007201', 'Residential Building, 1807202', 'Residential Building, 0407202']\n"
     ]
    }
   ],
   "source": [
    "print(title_list)"
   ]
  },
  {
   "cell_type": "code",
   "execution_count": 29,
   "id": "943c552c",
   "metadata": {},
   "outputs": [
    {
     "name": "stdout",
     "output_type": "stream",
     "text": [
      "['https://freecadfloorplans.com/apartments-1405202/', 'https://freecadfloorplans.com/small-apartments-1404203/', 'https://freecadfloorplans.com/apartments-1404202/', 'https://freecadfloorplans.com/apartments-413201/', 'https://freecadfloorplans.com/apartments-411203/', 'https://freecadfloorplans.com/barn-door-hardware/', 'https://freecadfloorplans.com/breaker-box/', 'https://freecadfloorplans.com/complete-housing-project/', 'https://freecadfloorplans.com/residential-building-2407202/', 'https://freecadfloorplans.com/residential-building-2007202/', 'https://freecadfloorplans.com/residential-building-2307202/', 'https://freecadfloorplans.com/residential-building-2307201/', 'https://freecadfloorplans.com/residential-building-2007202-2/', 'https://freecadfloorplans.com/residential-building-2007201/', 'https://freecadfloorplans.com/residential-building-1807202/', 'https://freecadfloorplans.com/residential-building-0407202/']\n"
     ]
    }
   ],
   "source": [
    "print(link_list)"
   ]
  },
  {
   "cell_type": "code",
   "execution_count": 30,
   "id": "5ba9ece1",
   "metadata": {},
   "outputs": [
    {
     "name": "stdout",
     "output_type": "stream",
     "text": [
      "https://freecadfloorplans.com/apartments-1405202/\n",
      "https://freecadfloorplans.com/small-apartments-1404203/\n",
      "https://freecadfloorplans.com/apartments-1404202/\n",
      "https://freecadfloorplans.com/apartments-413201/\n",
      "https://freecadfloorplans.com/apartments-411203/\n",
      "https://freecadfloorplans.com/barn-door-hardware/\n",
      "https://freecadfloorplans.com/breaker-box/\n",
      "https://freecadfloorplans.com/complete-housing-project/\n",
      "https://freecadfloorplans.com/residential-building-2407202/\n",
      "https://freecadfloorplans.com/residential-building-2007202/\n",
      "https://freecadfloorplans.com/residential-building-2307202/\n",
      "https://freecadfloorplans.com/residential-building-2307201/\n",
      "https://freecadfloorplans.com/residential-building-2007202-2/\n",
      "https://freecadfloorplans.com/residential-building-2007201/\n",
      "https://freecadfloorplans.com/residential-building-1807202/\n",
      "https://freecadfloorplans.com/residential-building-0407202/\n"
     ]
    }
   ],
   "source": [
    "#Import the library\n",
    "import csv \n",
    "\n",
    "#combine the lists\n",
    "data=zip(title_list,plans_detail_list,link_list)\n",
    "\n",
    "#Write all the data to a csv\n",
    "with open('apartmentsdetail.csv', 'w',newline='') as csvfile: \n",
    "    writer = csv.writer(csvfile) \n",
    "    for row in data:\n",
    "        writer.writerow(row)\n",
    "\n",
    "#Write only links to a csv\n",
    "with open('onlylinks.csv', 'w',newline='') as csvfile: \n",
    "    writer = csv.writer(csvfile) \n",
    "    for link in link_list:\n",
    "        print(link)\n",
    "        writer.writerow([link])\n",
    "        "
   ]
  },
  {
   "cell_type": "code",
   "execution_count": 50,
   "id": "d44c27b5",
   "metadata": {},
   "outputs": [
    {
     "name": "stdout",
     "output_type": "stream",
     "text": [
      "https://freecadfloorplans.com/wp-content/uploads/2020/05/apartments-140202.dwg\n",
      "Downloading file:  1\n",
      "https://freecadfloorplans.com/wp-content/uploads/2020/04/Small-apto..dwg\n",
      "Downloading file:  2\n",
      "https://freecadfloorplans.com/wp-content/uploads/2020/04/Apto.1404202.dwg\n",
      "Downloading file:  3\n",
      "https://freecadfloorplans.com/wp-content/uploads/2020/04/Apartment-413201.dwg\n",
      "Downloading file:  4\n",
      "https://freecadfloorplans.com/wp-content/uploads/2020/04/Apartment-1.dwg\n",
      "Downloading file:  5\n",
      "https://freecadfloorplans.com/wp-content/uploads/2023/08/Barn-Door-Hardware.dwg\n",
      "Downloading file:  6\n",
      "https://freecadfloorplans.com/wp-content/uploads/2023/01/breaker-box.dwg\n",
      "Downloading file:  7\n",
      "https://freecadfloorplans.com/wp-content/uploads/2022/02/Complete-Housing-Project.dwg\n",
      "Downloading file:  8\n",
      "https://freecadfloorplans.com/wp-content/uploads/2020/07/residential-building-2407202.dwg\n",
      "Downloading file:  9\n",
      "https://freecadfloorplans.com/wp-content/uploads/2020/07/Residential-building-2407201.dwg\n",
      "Downloading file:  10\n",
      "https://freecadfloorplans.com/wp-content/uploads/2020/07/residential-building-2307202.dwg\n",
      "Downloading file:  11\n",
      "https://freecadfloorplans.com/wp-content/uploads/2020/07/residential-building-2307201.dwg\n",
      "Downloading file:  12\n",
      "https://freecadfloorplans.com/wp-content/uploads/2020/07/residential-building-2007202.dwg\n",
      "Downloading file:  13\n",
      "https://freecadfloorplans.com/wp-content/uploads/2020/07/residential-building-2007201.dwg\n",
      "Downloading file:  14\n",
      "https://freecadfloorplans.com/wp-content/uploads/2020/07/residential-building-1807202.dwg\n",
      "Downloading file:  15\n",
      "https://freecadfloorplans.com/wp-content/uploads/2020/07/Residential-building-0407202.dwg\n",
      "Downloading file:  16\n"
     ]
    }
   ],
   "source": [
    "#import a new library\n",
    "import requests\n",
    "\n",
    "#read the produced csv and iterate through the list\n",
    "with open(\"onlylinks.csv\", 'r',encoding='utf-8') as file:\n",
    "    csvreader = csv.reader(file) \n",
    "    \n",
    "    driver = webdriver.Chrome()\n",
    "    b=0\n",
    "    \n",
    "    for url in csvreader:\n",
    "        \n",
    "        #print(url[0])\n",
    "        driver.get(url[0])\n",
    "        sleep(2)\n",
    "        \n",
    "         #click on the cad button\n",
    "        find_cad=driver.find_element(\"css selector\",\".elementor-button-wrapper>a\").get_attribute('href')\n",
    "        print(find_cad)\n",
    "        \n",
    "        if (\".dwg\" in find_cad):\n",
    "            b+=1\n",
    "            print(\"Downloading file: \", b)\n",
    "            \n",
    "            response = requests.get(find_cad)\n",
    "            cad= open(\"dwg\"+str(b)+\".dwg\",\"wb\")\n",
    "            cad.write(response.content)\n",
    "            cad.close"
   ]
  },
  {
   "cell_type": "code",
   "execution_count": null,
   "id": "0180e24e",
   "metadata": {},
   "outputs": [],
   "source": []
  }
 ],
 "metadata": {
  "kernelspec": {
   "display_name": "Python 3 (ipykernel)",
   "language": "python",
   "name": "python3"
  },
  "language_info": {
   "codemirror_mode": {
    "name": "ipython",
    "version": 3
   },
   "file_extension": ".py",
   "mimetype": "text/x-python",
   "name": "python",
   "nbconvert_exporter": "python",
   "pygments_lexer": "ipython3",
   "version": "3.8.18"
  }
 },
 "nbformat": 4,
 "nbformat_minor": 5
}
