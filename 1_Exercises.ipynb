{
 "cells": [
  {
   "cell_type": "markdown",
   "id": "38e188a5",
   "metadata": {},
   "source": [
    "# Exercise 00\n",
    "Write a piece of code that allocates a list of 20 integers and initializes each element by its index multiplied by 5. Print the result."
   ]
  },
  {
   "cell_type": "code",
   "execution_count": null,
   "id": "01aa4f35",
   "metadata": {},
   "outputs": [],
   "source": [
    "import random\n",
    "numbers = list(range(1,100))\n",
    "random_numbers = random.sample(numbers,20)\n",
    "print(random_numbers)\n",
    "list1 = [ ]\n",
    "for i in random_numbers:\n",
    "    list1.append(i*5)\n",
    "print(list1)\n",
    "    "
   ]
  },
  {
   "cell_type": "markdown",
   "id": "529d91ae",
   "metadata": {},
   "source": [
    "# Exercise 01\n",
    "Define a function that takes an integer as input, prints  all integers that it is divisable by, and returns the largest one."
   ]
  },
  {
   "cell_type": "code",
   "execution_count": 5,
   "id": "30e79132",
   "metadata": {},
   "outputs": [],
   "source": [
    "def maxnumber (n):\n",
    "    mylist = [ ]\n",
    "\n",
    "    for i in range(1,n):\n",
    "        if n % i == 0:\n",
    "             mylist.append(i)\n",
    "                \n",
    "    max_factor = max(mylist)\n",
    "    \n",
    "    return max_factor"
   ]
  },
  {
   "cell_type": "code",
   "execution_count": 6,
   "id": "37dcc827",
   "metadata": {},
   "outputs": [
    {
     "data": {
      "text/plain": [
       "30"
      ]
     },
     "execution_count": 6,
     "metadata": {},
     "output_type": "execute_result"
    }
   ],
   "source": [
    "maxnumber(60)"
   ]
  },
  {
   "cell_type": "markdown",
   "id": "cfbe30d4",
   "metadata": {},
   "source": [
    "# Exercise 02\n",
    "- create a dictionary with 6 keys and values of your choice\n",
    "- write a function that takes a dictionary and a value as input and returns whether the value occurs as a key in the dictionary\n",
    "- write a function that takes a dictionary as input, and returns the dictionary but the keys are swapped with their values (resolve the issue if a value occurs twice!)"
   ]
  },
  {
   "cell_type": "code",
   "execution_count": 164,
   "id": "2123f1c6",
   "metadata": {},
   "outputs": [],
   "source": [
    "no_logic = {'water':'fish',\n",
    "     'flower':'butterfly',\n",
    "     'food':'human',\n",
    "     'bamboo':'panda',\n",
    "     'magic':'HarryPotter',\n",
    "     'hero':'Irom man'}"
   ]
  },
  {
   "cell_type": "code",
   "execution_count": 165,
   "id": "9f9c80fe",
   "metadata": {},
   "outputs": [],
   "source": [
    "def newdic2 (y):\n",
    "    if y in no_logic.values():\n",
    "        return True\n",
    "    else:\n",
    "        return False"
   ]
  },
  {
   "cell_type": "code",
   "execution_count": 166,
   "id": "d7d497aa",
   "metadata": {},
   "outputs": [
    {
     "data": {
      "text/plain": [
       "True"
      ]
     },
     "execution_count": 166,
     "metadata": {},
     "output_type": "execute_result"
    }
   ],
   "source": [
    "newdic2('HarryPotter')"
   ]
  },
  {
   "cell_type": "code",
   "execution_count": 167,
   "id": "582845b1",
   "metadata": {},
   "outputs": [],
   "source": [
    "def newdicl(y):\n",
    "    for n in no_logic.values():\n",
    "        if n ==y:\n",
    "            return True\n",
    "        elif n!=y:\n",
    "            return False"
   ]
  },
  {
   "cell_type": "code",
   "execution_count": 168,
   "id": "d0e94652",
   "metadata": {},
   "outputs": [
    {
     "data": {
      "text/plain": [
       "True"
      ]
     },
     "execution_count": 168,
     "metadata": {},
     "output_type": "execute_result"
    }
   ],
   "source": [
    "newdic1('panda')"
   ]
  },
  {
   "cell_type": "code",
   "execution_count": 200,
   "id": "f9a7c307",
   "metadata": {},
   "outputs": [],
   "source": [
    "def swapdic(ori_dic):\n",
    "    newdic = {}\n",
    "    for k,v in ori_dic.items( ):\n",
    "        newdic[v] = k\n",
    "    return newdic"
   ]
  },
  {
   "cell_type": "code",
   "execution_count": 201,
   "id": "e6613c63",
   "metadata": {},
   "outputs": [
    {
     "data": {
      "text/plain": [
       "{'fish': 'water',\n",
       " 'butterfly': 'flower',\n",
       " 'human': 'food',\n",
       " 'panda': 'bamboo',\n",
       " 'HarryPotter': 'magic',\n",
       " 'Irom man': 'hero'}"
      ]
     },
     "execution_count": 201,
     "metadata": {},
     "output_type": "execute_result"
    }
   ],
   "source": [
    "swapdic(no_logic)"
   ]
  },
  {
   "cell_type": "code",
   "execution_count": 152,
   "id": "5a5e6463",
   "metadata": {},
   "outputs": [],
   "source": [
    "dic_example = {'a' : 'apple','b':'apple', 'c' : 'peach', 'd' :'banana' }\n",
    "def newswapdic(ori_dic):\n",
    "    newdic = {}\n",
    "    for k,v in ori_dic.items():\n",
    "        if "
   ]
  },
  {
   "cell_type": "markdown",
   "id": "b4b4e426",
   "metadata": {},
   "source": [
    "# Exercise 03\n",
    "Define a function that creates a dictionary of the first n fibonacci numbers as values paired with their indices as keys. "
   ]
  },
  {
   "cell_type": "code",
   "execution_count": 230,
   "id": "949ae93c",
   "metadata": {},
   "outputs": [],
   "source": [
    "def fibonacci_dict(n):\n",
    "    newfib = {}\n",
    "    f0 = 0\n",
    "    f1 = 1\n",
    "\n",
    "    for i in range(n):\n",
    "        newfib[i] = f0\n",
    "        m = f0 + f1\n",
    "        f0 = f1\n",
    "        f1 = m\n",
    "\n",
    "    return newfib"
   ]
  },
  {
   "cell_type": "code",
   "execution_count": 232,
   "id": "35220254",
   "metadata": {},
   "outputs": [
    {
     "data": {
      "text/plain": [
       "{0: 0, 1: 1, 2: 1, 3: 2, 4: 3, 5: 5, 6: 8, 7: 13, 8: 21, 9: 34}"
      ]
     },
     "execution_count": 232,
     "metadata": {},
     "output_type": "execute_result"
    }
   ],
   "source": [
    "fibonacci_dict(10)"
   ]
  },
  {
   "cell_type": "code",
   "execution_count": null,
   "id": "899a379a",
   "metadata": {},
   "outputs": [],
   "source": []
  }
 ],
 "metadata": {
  "kernelspec": {
   "display_name": "Python 3 (ipykernel)",
   "language": "python",
   "name": "python3"
  },
  "language_info": {
   "codemirror_mode": {
    "name": "ipython",
    "version": 3
   },
   "file_extension": ".py",
   "mimetype": "text/x-python",
   "name": "python",
   "nbconvert_exporter": "python",
   "pygments_lexer": "ipython3",
   "version": "3.8.18"
  }
 },
 "nbformat": 4,
 "nbformat_minor": 5
}
