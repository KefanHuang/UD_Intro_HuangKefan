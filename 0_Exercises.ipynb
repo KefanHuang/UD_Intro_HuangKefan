{
 "cells": [
  {
   "cell_type": "markdown",
   "id": "529d91ae",
   "metadata": {},
   "source": [
    "# Exercise 00\n",
    "Write a bit of code that prints _Introduction to Programming_ to the console and execute the cell"
   ]
  },
  {
   "cell_type": "code",
   "execution_count": 1,
   "id": "98711beb",
   "metadata": {},
   "outputs": [
    {
     "name": "stdout",
     "output_type": "stream",
     "text": [
      "Introduction to Programming\n"
     ]
    }
   ],
   "source": [
    "print(\"Introduction to Programming\")"
   ]
  },
  {
   "cell_type": "markdown",
   "id": "63ad5023",
   "metadata": {},
   "source": [
    "-----------------------------------------------------------------------------\n",
    "# Exercise 01\n",
    "Hello World is traditionally the first program anyone writes. It is\n",
    "very simple and the only thing it should do is print Hello World! to the\n",
    "terminal window.\n",
    "Create a file called HelloWorld.py and edit the contents so it prints Hello World! to the terminal and execute it using the command line."
   ]
  },
  {
   "cell_type": "markdown",
   "id": "a4a7c4c2",
   "metadata": {},
   "source": [
    "-----------------------------------------------------------------------------\n",
    "# Exercise 02\n",
    "Write some code to print your name, email, and age on separate lines. For each element first assign it to a variable and use the variable to print. \n",
    "\n",
    "Bonus: try to create the print statement for all variable in one line of code. (hint: '\\n' is the character for a new line)"
   ]
  },
  {
   "cell_type": "code",
   "execution_count": 2,
   "id": "fc8fface",
   "metadata": {},
   "outputs": [
    {
     "name": "stdout",
     "output_type": "stream",
     "text": [
      "kefan Huang\n",
      "ucbvkh0@ucl.ac.uk\n",
      "23\n"
     ]
    }
   ],
   "source": [
    "name = \"kefan Huang\"\n",
    "email = \"ucbvkh0@ucl.ac.uk\"\n",
    "age = \"23\"\n",
    "\n",
    "print(name + \"\\n\" + email + \"\\n\" + age)"
   ]
  },
  {
   "cell_type": "code",
   "execution_count": 3,
   "id": "1b5fafb0",
   "metadata": {},
   "outputs": [
    {
     "name": "stdout",
     "output_type": "stream",
     "text": [
      "name:kefan Huang\n",
      "email:ucbvkh0@ucl.ac.uk\n",
      "age:23\n"
     ]
    }
   ],
   "source": [
    "name = \"kefan Huang\"\n",
    "email = \"ucbvkh0@ucl.ac.uk\"\n",
    "age = \"23\"\n",
    "\n",
    "print(\"name:\" + name + \"\\n\" + \"email:\" + email + \"\\n\"  + \"age:\" + age)"
   ]
  },
  {
   "cell_type": "markdown",
   "id": "0dd1c1d1",
   "metadata": {},
   "source": [
    "-----------------------------------------------------------------------------\n",
    "# Exercise 03\n",
    "Print the numbers 0, 178, -21, 2938 divided by 49, 436 multiplied with 9948 and 12 to the power of 20\n",
    "\n",
    "(Hint: Look up the documentation of basic arithmetic operators)"
   ]
  },
  {
   "cell_type": "code",
   "execution_count": 4,
   "id": "f3d5d009",
   "metadata": {},
   "outputs": [
    {
     "name": "stdout",
     "output_type": "stream",
     "text": [
      "0\n",
      "178\n",
      "-21\n",
      "59.95918367346939\n",
      "4337328\n",
      "3833759992447475122176\n"
     ]
    }
   ],
   "source": [
    "print(0)\n",
    "print(178)\n",
    "print(-21)\n",
    "print(2938/49)\n",
    "print(436*9948)\n",
    "print(12**20)"
   ]
  },
  {
   "cell_type": "markdown",
   "id": "1f151455",
   "metadata": {},
   "source": [
    "-----------------------------------------------------------------------------\n",
    "# Exercise 04\n",
    "Print sin(200), cos(100), tan($\\pi$/4)\n",
    "\n",
    "(Hint: Look up for how to use trigonometric function, and how to get the value of $\\pi$.)"
   ]
  },
  {
   "cell_type": "code",
   "execution_count": 5,
   "id": "d0e37690",
   "metadata": {},
   "outputs": [
    {
     "name": "stdout",
     "output_type": "stream",
     "text": [
      "-0.34202014332566866\n",
      "-0.1736481776669303\n",
      "0.9999060498015505\n"
     ]
    }
   ],
   "source": [
    "import math\n",
    "print(math.sin(math.radians(200)))\n",
    "print(math.cos(math.radians(100)))\n",
    "print(math.cos(math.radians(math.pi/4)))"
   ]
  },
  {
   "cell_type": "markdown",
   "id": "9d026820",
   "metadata": {},
   "source": [
    "-----------------------------------------------------------------------------\n",
    "# Exercise 05\n",
    "Write a program to read your first and last names from the console seperately, and then print them on the console together, separated by a space."
   ]
  },
  {
   "cell_type": "code",
   "execution_count": 6,
   "id": "4c7217e0",
   "metadata": {},
   "outputs": [
    {
     "name": "stdout",
     "output_type": "stream",
     "text": [
      "Kefan\n",
      "Huang\n",
      "Kefan Huang\n"
     ]
    }
   ],
   "source": [
    "firstname = \"Kefan\"\n",
    "lastname = \"Huang\"\n",
    "print(firstname)\n",
    "print(lastname)\n",
    "print(firstname + \" \" + lastname)"
   ]
  },
  {
   "cell_type": "markdown",
   "id": "e83fa346",
   "metadata": {},
   "source": [
    "-----------------------------------------------------------------------------\n",
    "# Exercise 06\n",
    "Write a program that determines whether a number given as user input is positive or negative\n",
    " \n",
    "You will need to convert the console input from a string to a number first!"
   ]
  },
  {
   "cell_type": "markdown",
   "id": "ceea2677",
   "metadata": {},
   "source": [
    "# number = int(input( ))\n",
    "if number<0:\n",
    "    print( str(number) + \" \" + \"is negative\")\n",
    "elif number>0:\n",
    "    print( str(number) + \" \" + \"is positive\")"
   ]
  },
  {
   "cell_type": "markdown",
   "id": "2a192596",
   "metadata": {},
   "source": [
    "-----------------------------------------------------------------------------\n",
    "# Exercise 07\n",
    "Write a program that picks a random number between 1-20 and makes the user guess until they get the number right. Then print a congratulations message\n",
    "- (Find out yourself how to generate a random integer)\n",
    "- Bonus: make the user choose the range within which they have to guess\n",
    "- Bonus: keep track of how many guesses were made and print this at the end"
   ]
  },
  {
   "cell_type": "code",
   "execution_count": 8,
   "id": "70358dd3",
   "metadata": {},
   "outputs": [
    {
     "name": "stdout",
     "output_type": "stream",
     "text": [
      "1\n",
      "the number is wrong\n",
      "2\n",
      "the number is wrong\n",
      "3\n",
      "the number is wrong\n",
      "4\n",
      "the number is wrong\n",
      "5\n",
      "the number is wrong\n",
      "6\n",
      "the number is wrong\n",
      "7\n",
      "the number is wrong\n",
      "8\n",
      "the number is wrong\n",
      "9\n",
      "the number is wrong\n",
      "10\n",
      "the number is wrong\n",
      "11\n",
      "the number is wrong\n",
      "12\n",
      "the number is wrong\n",
      "13\n",
      "the number is wrong\n",
      "14\n",
      "the number is wrong\n",
      "15\n",
      "the number is wrong\n",
      "16\n",
      " congratulations!!!\n"
     ]
    }
   ],
   "source": [
    "import random\n",
    "n1 = random.randint(1,20)\n",
    "n2 = int(input())\n",
    "\n",
    "while n1 != n2 :\n",
    "    print(\"the number is wrong\")\n",
    "    n2 = int(input())\n",
    "print(\" congratulations!!!\")"
   ]
  },
  {
   "cell_type": "code",
   "execution_count": 9,
   "id": "314ebc6b",
   "metadata": {},
   "outputs": [
    {
     "name": "stdout",
     "output_type": "stream",
     "text": [
      "Determine what your maximum range is \n",
      "22\n",
      "Determine what your minimum range is \n",
      "15\n",
      "Enter a number in this range\n",
      "15\n",
      "the number is wrong\n",
      "16\n",
      "the number is wrong\n",
      "17\n",
      "the number is wrong\n",
      "18\n",
      "congratulations!! You guessed 4 times!!\n"
     ]
    }
   ],
   "source": [
    "import random\n",
    "print(\"Determine what your maximum range is \") \n",
    "n1 = int(input()) \n",
    "print(\"Determine what your minimum range is \")\n",
    "n2 = int(input())\n",
    "n3 = random.randint(n2,n1) \n",
    "a = 1 \n",
    "print(\"Enter a number in this range\") \n",
    "n4 = int(input())\n",
    "c = 1\n",
    "while n4!=n3:\n",
    "    print(\"the number is wrong\")\n",
    "    n4 = int(input())\n",
    "    c= c + 1\n",
    "print(\"congratulations!! You guessed\" +\" \" + str(c)+ \" \" + \"times!!\")"
   ]
  },
  {
   "cell_type": "markdown",
   "id": "d53b9c07",
   "metadata": {},
   "source": [
    "###### -----------------------------------------------------------------------------\n",
    "# Exercise 08\n",
    "Ask a sentence as input, then print the words in alphabetical order.\n",
    "Hint: look up how to split up a string"
   ]
  },
  {
   "cell_type": "code",
   "execution_count": 1,
   "id": "b6524cf5",
   "metadata": {
    "scrolled": true
   },
   "outputs": [
    {
     "name": "stdout",
     "output_type": "stream",
     "text": [
      "please enter a sentence\n",
      "i love urban design so much\n",
      "['design', 'i', 'love', 'much', 'so', 'urban']\n"
     ]
    }
   ],
   "source": [
    "print(\"please enter a sentence\")\n",
    "sentence = input()\n",
    "words = sentence.split( )\n",
    "words.sort()\n",
    "print(words)"
   ]
  },
  {
   "cell_type": "markdown",
   "id": "09a7b060",
   "metadata": {},
   "source": [
    "-----------------------------------------------------------------------------\n",
    "# Exercise 09\n",
    "Write a program using for loops to print a christmas tree of x lines high\n",
    "specified by the user.\n",
    "(use for loops)\n",
    "so for instance, a chrismas tree of 4 high should looks like this:\n",
    "\n",
    "```\n",
    "\n",
    "    *\n",
    "   ***\n",
    "  *****\n",
    " *******\n",
    "    |\n",
    "\n",
    "```\n",
    "\n",
    "hint: first combine strings into a variable before printing"
   ]
  },
  {
   "cell_type": "code",
   "execution_count": 13,
   "id": "5150f7a4",
   "metadata": {},
   "outputs": [
    {
     "name": "stdout",
     "output_type": "stream",
     "text": [
      "6\n"
     ]
    },
    {
     "ename": "TypeError",
     "evalue": "unsupported operand type(s) for /: 'str' and 'int'",
     "output_type": "error",
     "traceback": [
      "\u001b[1;31m---------------------------------------------------------------------------\u001b[0m",
      "\u001b[1;31mTypeError\u001b[0m                                 Traceback (most recent call last)",
      "Cell \u001b[1;32mIn[13], line 4\u001b[0m\n\u001b[0;32m      2\u001b[0m \u001b[38;5;28;01mfor\u001b[39;00m i \u001b[38;5;129;01min\u001b[39;00m \u001b[38;5;28mrange\u001b[39m(\u001b[38;5;241m1\u001b[39m,x \u001b[38;5;241m+\u001b[39m \u001b[38;5;241m1\u001b[39m):\n\u001b[0;32m      3\u001b[0m     spaces \u001b[38;5;241m=\u001b[39m \u001b[38;5;124m\"\u001b[39m\u001b[38;5;124m \u001b[39m\u001b[38;5;124m\"\u001b[39m \u001b[38;5;241m*\u001b[39m (x \u001b[38;5;241m-\u001b[39m \u001b[38;5;241m1\u001b[39m)\n\u001b[1;32m----> 4\u001b[0m     space \u001b[38;5;241m=\u001b[39m \u001b[43mspaces\u001b[49m\u001b[38;5;241;43m/\u001b[39;49m\u001b[38;5;241;43m2\u001b[39;49m\n\u001b[0;32m      5\u001b[0m     n \u001b[38;5;241m=\u001b[39m \u001b[38;5;124m\"\u001b[39m\u001b[38;5;124m*\u001b[39m\u001b[38;5;124m\"\u001b[39m \u001b[38;5;241m*\u001b[39m (x \u001b[38;5;241m+\u001b[39m \u001b[38;5;241m2\u001b[39m)\n\u001b[0;32m      6\u001b[0m     layers \u001b[38;5;241m=\u001b[39m space\u001b[38;5;241m/\u001b[39m\u001b[38;5;241m2\u001b[39m \u001b[38;5;241m+\u001b[39m n \u001b[38;5;241m+\u001b[39m space\u001b[38;5;241m/\u001b[39m\u001b[38;5;241m2\u001b[39m\n",
      "\u001b[1;31mTypeError\u001b[0m: unsupported operand type(s) for /: 'str' and 'int'"
     ]
    }
   ],
   "source": [
    "x = int(input())\n",
    "for i in range(1,x + 1):\n",
    "    spaces = \" \" * (x - 1)\n",
    "    space = spaces/2\n",
    "    n = \"*\" * (x + 2)\n",
    "    layers = space/2 + n + space/2\n",
    "    print(i)"
   ]
  },
  {
   "cell_type": "markdown",
   "id": "07f67531",
   "metadata": {},
   "source": [
    "-----------------------------------------------------------------------------\n",
    "# Exercise 10\n",
    "Write a piece of code that prints the first $n$ numbers of the padovan sequence"
   ]
  },
  {
   "cell_type": "code",
   "execution_count": null,
   "id": "d301c61b",
   "metadata": {},
   "outputs": [],
   "source": []
  },
  {
   "cell_type": "code",
   "execution_count": null,
   "id": "3dd50644",
   "metadata": {},
   "outputs": [],
   "source": []
  }
 ],
 "metadata": {
  "kernelspec": {
   "display_name": "Python 3 (ipykernel)",
   "language": "python",
   "name": "python3"
  },
  "language_info": {
   "codemirror_mode": {
    "name": "ipython",
    "version": 3
   },
   "file_extension": ".py",
   "mimetype": "text/x-python",
   "name": "python",
   "nbconvert_exporter": "python",
   "pygments_lexer": "ipython3",
   "version": "3.8.18"
  }
 },
 "nbformat": 4,
 "nbformat_minor": 5
}
